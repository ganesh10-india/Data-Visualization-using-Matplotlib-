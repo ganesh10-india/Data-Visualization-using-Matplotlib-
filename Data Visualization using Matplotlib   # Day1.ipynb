{
 "cells": [
  {
   "cell_type": "markdown",
   "metadata": {},
   "source": [
    "# Data Visualization."
   ]
  },
  {
   "cell_type": "markdown",
   "metadata": {},
   "source": []
  },
  {
   "cell_type": "markdown",
   "metadata": {},
   "source": [
    "Matplotlib: Matplotlib is mainly deployed for basic plotting. Visualization using Matplotlib generally consists of bars, pies, lines, scatter plots and so on. \n",
    "\n",
    "Seaborn: Seaborn, on the other hand, provides a variety of visualization patterns. It uses fewer syntax and has easily interesting default themes.Jul 2, 2019"
   ]
  },
  {
   "cell_type": "markdown",
   "metadata": {},
   "source": [
    "# Bar Plot In MatPlotLib"
   ]
  },
  {
   "cell_type": "code",
   "execution_count": 4,
   "metadata": {},
   "outputs": [],
   "source": [
    "import pandas as pd\n",
    "import matplotlib.pyplot as plt\n",
    "import numpy as np\n",
    "%matplotlib inline"
   ]
  },
  {
   "cell_type": "code",
   "execution_count": 5,
   "metadata": {
    "collapsed": true
   },
   "outputs": [
    {
     "data": {
      "text/html": [
       "<div>\n",
       "<style scoped>\n",
       "    .dataframe tbody tr th:only-of-type {\n",
       "        vertical-align: middle;\n",
       "    }\n",
       "\n",
       "    .dataframe tbody tr th {\n",
       "        vertical-align: top;\n",
       "    }\n",
       "\n",
       "    .dataframe thead th {\n",
       "        text-align: right;\n",
       "    }\n",
       "</style>\n",
       "<table border=\"1\" class=\"dataframe\">\n",
       "  <thead>\n",
       "    <tr style=\"text-align: right;\">\n",
       "      <th></th>\n",
       "      <th>first_name</th>\n",
       "      <th>pre_score</th>\n",
       "      <th>mid_score</th>\n",
       "      <th>post_score</th>\n",
       "    </tr>\n",
       "  </thead>\n",
       "  <tbody>\n",
       "    <tr>\n",
       "      <td>0</td>\n",
       "      <td>Jason</td>\n",
       "      <td>4</td>\n",
       "      <td>25</td>\n",
       "      <td>5</td>\n",
       "    </tr>\n",
       "    <tr>\n",
       "      <td>1</td>\n",
       "      <td>Molly</td>\n",
       "      <td>24</td>\n",
       "      <td>94</td>\n",
       "      <td>43</td>\n",
       "    </tr>\n",
       "    <tr>\n",
       "      <td>2</td>\n",
       "      <td>Tina</td>\n",
       "      <td>31</td>\n",
       "      <td>57</td>\n",
       "      <td>23</td>\n",
       "    </tr>\n",
       "    <tr>\n",
       "      <td>3</td>\n",
       "      <td>Jake</td>\n",
       "      <td>2</td>\n",
       "      <td>62</td>\n",
       "      <td>23</td>\n",
       "    </tr>\n",
       "    <tr>\n",
       "      <td>4</td>\n",
       "      <td>Amy</td>\n",
       "      <td>3</td>\n",
       "      <td>70</td>\n",
       "      <td>51</td>\n",
       "    </tr>\n",
       "  </tbody>\n",
       "</table>\n",
       "</div>"
      ],
      "text/plain": [
       "  first_name  pre_score  mid_score  post_score\n",
       "0      Jason          4         25           5\n",
       "1      Molly         24         94          43\n",
       "2       Tina         31         57          23\n",
       "3       Jake          2         62          23\n",
       "4        Amy          3         70          51"
      ]
     },
     "execution_count": 5,
     "metadata": {},
     "output_type": "execute_result"
    }
   ],
   "source": [
    "# Create dataframe\n",
    "raw_data = {'first_name': ['Jason', 'Molly', 'Tina', 'Jake', 'Amy'],\n",
    "        'pre_score': [4, 24, 31, 2, 3],\n",
    "        'mid_score': [25, 94, 57, 62, 70],\n",
    "        'post_score': [5, 43, 23, 23, 51]}\n",
    "df = pd.DataFrame(raw_data, columns = ['first_name', 'pre_score', 'mid_score', 'post_score'])\n",
    "df"
   ]
  },
  {
   "cell_type": "code",
   "execution_count": 7,
   "metadata": {},
   "outputs": [
    {
     "data": {
      "image/png": "[encoded data removed]",
      "text/plain": [
       "<Figure size 432x288 with 1 Axes>"
      ]
     },
     "metadata": {
      "needs_background": "light"
     },
     "output_type": "display_data"
    }
   ],
   "source": [
    "# Make a Plot\n",
    "\n",
    "# Create a list of mean scores for each variables\n",
    "mean_values =[df['pre_score'].mean(),df['mid_score'].mean(),df['post_score'].mean()]\n",
    "\n",
    "# Create a list of variances, which are set at .25 above and below the score\n",
    "variance =  [df['pre_score'].mean() *0.25,df['pre_score'].mean()*0.25,df['pre_score'].mean()*0.25]\n",
    "\n",
    "# Set the bar labels\n",
    "bar_labels = ['Pre Score', 'Mid_score','Post Score']\n",
    "\n",
    "# Create the X position of the Bar \n",
    "x_pos = list(range(len(bar_labels)))\n",
    "\n",
    "# Create a Bar plot\n",
    "# In X Position\n",
    "plt.bar(x_pos,\n",
    "       # using the data from thr mean value\n",
    "       mean_values,\n",
    "       #with a y-error line set at varaince\n",
    "       yerr =variance,\n",
    "       # aligned in the center\n",
    "       align='center',\n",
    "       color ='#FFC222',\n",
    "       alpha = 0.5)\n",
    "# add grid\n",
    "plt.grid()\n",
    "\n",
    "# set the height of the axis\n",
    "max_y =max(zip(mean_values,variance))\n",
    "plt.ylim([0,(max_y[0]) * 1.1])\n",
    "\n",
    "# Set axes labels and the Title\n",
    "plt.ylabel('Score')\n",
    "plt.xticks(x_pos,bar_labels)\n",
    "plt.title('Means Score for each Test')\n",
    "plt.show()\n"
   ]
  },
  {
   "cell_type": "markdown",
   "metadata": {},
   "source": [
    "# Group Bar Plot In MatPlotLib."
   ]
  },
  {
   "cell_type": "code",
   "execution_count": 8,
   "metadata": {},
   "outputs": [
    {
     "data": {
      "text/html": [
       "<div>\n",
       "<style scoped>\n",
       "    .dataframe tbody tr th:only-of-type {\n",
       "        vertical-align: middle;\n",
       "    }\n",
       "\n",
       "    .dataframe tbody tr th {\n",
       "        vertical-align: top;\n",
       "    }\n",
       "\n",
       "    .dataframe thead th {\n",
       "        text-align: right;\n",
       "    }\n",
       "</style>\n",
       "<table border=\"1\" class=\"dataframe\">\n",
       "  <thead>\n",
       "    <tr style=\"text-align: right;\">\n",
       "      <th></th>\n",
       "      <th>first_name</th>\n",
       "      <th>pre_score</th>\n",
       "      <th>mid_score</th>\n",
       "      <th>post_score</th>\n",
       "    </tr>\n",
       "  </thead>\n",
       "  <tbody>\n",
       "    <tr>\n",
       "      <td>0</td>\n",
       "      <td>Jason</td>\n",
       "      <td>4</td>\n",
       "      <td>25</td>\n",
       "      <td>5</td>\n",
       "    </tr>\n",
       "    <tr>\n",
       "      <td>1</td>\n",
       "      <td>Molly</td>\n",
       "      <td>24</td>\n",
       "      <td>94</td>\n",
       "      <td>43</td>\n",
       "    </tr>\n",
       "    <tr>\n",
       "      <td>2</td>\n",
       "      <td>Tina</td>\n",
       "      <td>31</td>\n",
       "      <td>57</td>\n",
       "      <td>23</td>\n",
       "    </tr>\n",
       "    <tr>\n",
       "      <td>3</td>\n",
       "      <td>Jake</td>\n",
       "      <td>2</td>\n",
       "      <td>62</td>\n",
       "      <td>23</td>\n",
       "    </tr>\n",
       "    <tr>\n",
       "      <td>4</td>\n",
       "      <td>Amy</td>\n",
       "      <td>3</td>\n",
       "      <td>70</td>\n",
       "      <td>51</td>\n",
       "    </tr>\n",
       "  </tbody>\n",
       "</table>\n",
       "</div>"
      ],
      "text/plain": [
       "  first_name  pre_score  mid_score  post_score\n",
       "0      Jason          4         25           5\n",
       "1      Molly         24         94          43\n",
       "2       Tina         31         57          23\n",
       "3       Jake          2         62          23\n",
       "4        Amy          3         70          51"
      ]
     },
     "execution_count": 8,
     "metadata": {},
     "output_type": "execute_result"
    }
   ],
   "source": [
    "# Create dataframe\n",
    "raw_data = {'first_name': ['Jason', 'Molly', 'Tina', 'Jake', 'Amy'],\n",
    "        'pre_score': [4, 24, 31, 2, 3],\n",
    "        'mid_score': [25, 94, 57, 62, 70],\n",
    "        'post_score': [5, 43, 23, 23, 51]}\n",
    "df = pd.DataFrame(raw_data, columns = ['first_name', 'pre_score', 'mid_score', 'post_score'])\n",
    "df"
   ]
  },
  {
   "cell_type": "code",
   "execution_count": 11,
   "metadata": {},
   "outputs": [
    {
     "data": {
      "image/png": "[encoded data removed]",
      "text/plain": [
       "<Figure size 720x360 with 1 Axes>"
      ]
     },
     "metadata": {
      "needs_background": "light"
     },
     "output_type": "display_data"
    }
   ],
   "source": [
    "# Setting the positions and width for the bars\n",
    "pos =list(range(len(df['pre_score'])))\n",
    "width = 0.25\n",
    "\n",
    "# plotting the bar\n",
    "fig ,ax =plt.subplots(figsize =(10,5))\n",
    "# Create a bar with pre_score data,\n",
    "# in position pos,\n",
    "plt.bar(pos,\n",
    "       # using df['pre_score']) data\n",
    "        df['pre_score'],\n",
    "        width,\n",
    "        alpha =0.5,\n",
    "        color = '#EE3224',\n",
    "        # with the label the first value in first_name\n",
    "        label = df['first_name'][0])\n",
    "# Create a bar with mid_score data,\n",
    "# in position pos + some width buffer,\n",
    "plt.bar([p + width for p in pos],\n",
    "       #using df['mid_score'] data,\n",
    "        df['mid_score'],\n",
    "        # of width\n",
    "        width, \n",
    "        # with alpha 0.5\n",
    "        alpha=0.5, \n",
    "        # with color\n",
    "        color='#F78F1E', \n",
    "        # with label the second value in first_name\n",
    "        label=df['first_name'][1])\n",
    "# Create a bar with post_score data,\n",
    "# in position pos + some width buffer,\n",
    "plt.bar([p + width*2 for p in pos], \n",
    "        #using df['post_score'] data,\n",
    "        df['post_score'], \n",
    "        # of width\n",
    "        width, \n",
    "        # with alpha 0.5\n",
    "        alpha=0.5, \n",
    "        # with color\n",
    "        color='#FFC222', \n",
    "        # with label the third value in first_name\n",
    "        label=df['first_name'][2]) \n",
    "# Set the Y -axis label\n",
    "ax.set_ylabel('Score')\n",
    "\n",
    "# set the chart title\n",
    "ax.set_title('Test Subject Scores')\n",
    "\n",
    "# Set the labels for the x ticks\n",
    "ax.set_xticklabels(df['first_name'])\n",
    "\n",
    "# set the position of the xticks\n",
    "ax.set_xticks([p * 1.5 * width for p in pos])\n",
    "\n",
    "# Setting the x-axis and the Y-axis Limits\n",
    "plt.xlim(min(pos)-width,max(pos)+width*4)\n",
    "plt.ylim([0, max(df['pre_score'] + df['mid_score'] + df['post_score'])] )\n",
    "\n",
    "# Adding the legend and showing the plot\n",
    "plt.legend(['Pre Score','Mid Score','Post Score'],loc ='upper left')\n",
    "plt.grid()\n",
    "plt.show()\n"
   ]
  },
  {
   "cell_type": "markdown",
   "metadata": {},
   "source": [
    "# Creating Scatterplots With Seaborn"
   ]
  },
  {
   "cell_type": "code",
   "execution_count": 12,
   "metadata": {},
   "outputs": [],
   "source": [
    "import random \n",
    "import seaborn as sns"
   ]
  },
  {
   "cell_type": "code",
   "execution_count": 13,
   "metadata": {},
   "outputs": [],
   "source": [
    "# Create empty dataframe\n",
    "df = pd.DataFrame()\n",
    "\n",
    "# Add columns\n",
    "df['x'] = random.sample(range(1, 1000), 5)\n",
    "df['y'] = random.sample(range(1, 1000), 5)\n",
    "df['z'] = [1,0,0,1,0]\n",
    "df['k'] = ['male','male','male','female','female']"
   ]
  },
  {
   "cell_type": "code",
   "execution_count": 14,
   "metadata": {},
   "outputs": [
    {
     "data": {
      "text/html": [
       "<div>\n",
       "<style scoped>\n",
       "    .dataframe tbody tr th:only-of-type {\n",
       "        vertical-align: middle;\n",
       "    }\n",
       "\n",
       "    .dataframe tbody tr th {\n",
       "        vertical-align: top;\n",
       "    }\n",
       "\n",
       "    .dataframe thead th {\n",
       "        text-align: right;\n",
       "    }\n",
       "</style>\n",
       "<table border=\"1\" class=\"dataframe\">\n",
       "  <thead>\n",
       "    <tr style=\"text-align: right;\">\n",
       "      <th></th>\n",
       "      <th>x</th>\n",
       "      <th>y</th>\n",
       "      <th>z</th>\n",
       "      <th>k</th>\n",
       "    </tr>\n",
       "  </thead>\n",
       "  <tbody>\n",
       "    <tr>\n",
       "      <td>0</td>\n",
       "      <td>293</td>\n",
       "      <td>329</td>\n",
       "      <td>1</td>\n",
       "      <td>male</td>\n",
       "    </tr>\n",
       "    <tr>\n",
       "      <td>1</td>\n",
       "      <td>951</td>\n",
       "      <td>15</td>\n",
       "      <td>0</td>\n",
       "      <td>male</td>\n",
       "    </tr>\n",
       "    <tr>\n",
       "      <td>2</td>\n",
       "      <td>379</td>\n",
       "      <td>846</td>\n",
       "      <td>0</td>\n",
       "      <td>male</td>\n",
       "    </tr>\n",
       "    <tr>\n",
       "      <td>3</td>\n",
       "      <td>761</td>\n",
       "      <td>286</td>\n",
       "      <td>1</td>\n",
       "      <td>female</td>\n",
       "    </tr>\n",
       "    <tr>\n",
       "      <td>4</td>\n",
       "      <td>836</td>\n",
       "      <td>67</td>\n",
       "      <td>0</td>\n",
       "      <td>female</td>\n",
       "    </tr>\n",
       "  </tbody>\n",
       "</table>\n",
       "</div>"
      ],
      "text/plain": [
       "     x    y  z       k\n",
       "0  293  329  1    male\n",
       "1  951   15  0    male\n",
       "2  379  846  0    male\n",
       "3  761  286  1  female\n",
       "4  836   67  0  female"
      ]
     },
     "execution_count": 14,
     "metadata": {},
     "output_type": "execute_result"
    }
   ],
   "source": [
    "df.head()"
   ]
  },
  {
   "cell_type": "code",
   "execution_count": 16,
   "metadata": {},
   "outputs": [
    {
     "data": {
      "text/plain": [
       "Text(35.625842319444445, 0.5, 'Deaths')"
      ]
     },
     "execution_count": 16,
     "metadata": {},
     "output_type": "execute_result"
    },
    {
     "data": {
      "image/png": "[encoded data removed]",
      "text/plain": [
       "<Figure size 410.435x360 with 1 Axes>"
      ]
     },
     "metadata": {},
     "output_type": "display_data"
    }
   ],
   "source": [
    "# SCATTER PLOT\n",
    "\n",
    "# set style of scatterplot\n",
    "sns.set_context('notebook',font_scale=1.1)\n",
    "sns.set_style('ticks')\n",
    "\n",
    "# Create Scatter plot of dataframe\n",
    "sns.lmplot('x', # Horizontal axis\n",
    "          'y', # Vertical axis\n",
    "          data = df , # Data Source\n",
    "          fit_reg= True,# dont need a regression line\n",
    "          hue ='z', # Set color\n",
    "          scatter_kws={'marker':'D','s':100})\n",
    "plt.title('Histogram of IQ')\n",
    "plt.xlabel('Time')\n",
    "plt.ylabel('Deaths')\n"
   ]
  },
  {
   "cell_type": "markdown",
   "metadata": {},
   "source": [
    " # Pie Chart In MatPlotLib."
   ]
  },
  {
   "cell_type": "code",
   "execution_count": 17,
   "metadata": {
    "collapsed": true
   },
   "outputs": [
    {
     "data": {
      "text/html": [
       "<div>\n",
       "<style scoped>\n",
       "    .dataframe tbody tr th:only-of-type {\n",
       "        vertical-align: middle;\n",
       "    }\n",
       "\n",
       "    .dataframe tbody tr th {\n",
       "        vertical-align: top;\n",
       "    }\n",
       "\n",
       "    .dataframe thead th {\n",
       "        text-align: right;\n",
       "    }\n",
       "</style>\n",
       "<table border=\"1\" class=\"dataframe\">\n",
       "  <thead>\n",
       "    <tr style=\"text-align: right;\">\n",
       "      <th></th>\n",
       "      <th>officer_name</th>\n",
       "      <th>jan_arrests</th>\n",
       "      <th>feb_arrests</th>\n",
       "      <th>march_arrests</th>\n",
       "    </tr>\n",
       "  </thead>\n",
       "  <tbody>\n",
       "    <tr>\n",
       "      <td>0</td>\n",
       "      <td>Jason</td>\n",
       "      <td>4</td>\n",
       "      <td>25</td>\n",
       "      <td>5</td>\n",
       "    </tr>\n",
       "    <tr>\n",
       "      <td>1</td>\n",
       "      <td>Molly</td>\n",
       "      <td>24</td>\n",
       "      <td>94</td>\n",
       "      <td>43</td>\n",
       "    </tr>\n",
       "    <tr>\n",
       "      <td>2</td>\n",
       "      <td>Tina</td>\n",
       "      <td>31</td>\n",
       "      <td>57</td>\n",
       "      <td>23</td>\n",
       "    </tr>\n",
       "    <tr>\n",
       "      <td>3</td>\n",
       "      <td>Jake</td>\n",
       "      <td>2</td>\n",
       "      <td>62</td>\n",
       "      <td>23</td>\n",
       "    </tr>\n",
       "    <tr>\n",
       "      <td>4</td>\n",
       "      <td>Amy</td>\n",
       "      <td>3</td>\n",
       "      <td>70</td>\n",
       "      <td>51</td>\n",
       "    </tr>\n",
       "  </tbody>\n",
       "</table>\n",
       "</div>"
      ],
      "text/plain": [
       "  officer_name  jan_arrests  feb_arrests  march_arrests\n",
       "0        Jason            4           25              5\n",
       "1        Molly           24           94             43\n",
       "2         Tina           31           57             23\n",
       "3         Jake            2           62             23\n",
       "4          Amy            3           70             51"
      ]
     },
     "execution_count": 17,
     "metadata": {},
     "output_type": "execute_result"
    }
   ],
   "source": [
    "raw_data = {'officer_name': ['Jason', 'Molly', 'Tina', 'Jake', 'Amy'],\n",
    "        'jan_arrests': [4, 24, 31, 2, 3],\n",
    "        'feb_arrests': [25, 94, 57, 62, 70],\n",
    "        'march_arrests': [5, 43, 23, 23, 51]}\n",
    "df = pd.DataFrame(raw_data, columns = ['officer_name', 'jan_arrests', 'feb_arrests', 'march_arrests'])\n",
    "df"
   ]
  },
  {
   "cell_type": "code",
   "execution_count": 18,
   "metadata": {
    "collapsed": true
   },
   "outputs": [
    {
     "data": {
      "text/html": [
       "<div>\n",
       "<style scoped>\n",
       "    .dataframe tbody tr th:only-of-type {\n",
       "        vertical-align: middle;\n",
       "    }\n",
       "\n",
       "    .dataframe tbody tr th {\n",
       "        vertical-align: top;\n",
       "    }\n",
       "\n",
       "    .dataframe thead th {\n",
       "        text-align: right;\n",
       "    }\n",
       "</style>\n",
       "<table border=\"1\" class=\"dataframe\">\n",
       "  <thead>\n",
       "    <tr style=\"text-align: right;\">\n",
       "      <th></th>\n",
       "      <th>officer_name</th>\n",
       "      <th>jan_arrests</th>\n",
       "      <th>feb_arrests</th>\n",
       "      <th>march_arrests</th>\n",
       "      <th>total_arrests</th>\n",
       "    </tr>\n",
       "  </thead>\n",
       "  <tbody>\n",
       "    <tr>\n",
       "      <td>0</td>\n",
       "      <td>Jason</td>\n",
       "      <td>4</td>\n",
       "      <td>25</td>\n",
       "      <td>5</td>\n",
       "      <td>34</td>\n",
       "    </tr>\n",
       "    <tr>\n",
       "      <td>1</td>\n",
       "      <td>Molly</td>\n",
       "      <td>24</td>\n",
       "      <td>94</td>\n",
       "      <td>43</td>\n",
       "      <td>161</td>\n",
       "    </tr>\n",
       "    <tr>\n",
       "      <td>2</td>\n",
       "      <td>Tina</td>\n",
       "      <td>31</td>\n",
       "      <td>57</td>\n",
       "      <td>23</td>\n",
       "      <td>111</td>\n",
       "    </tr>\n",
       "    <tr>\n",
       "      <td>3</td>\n",
       "      <td>Jake</td>\n",
       "      <td>2</td>\n",
       "      <td>62</td>\n",
       "      <td>23</td>\n",
       "      <td>87</td>\n",
       "    </tr>\n",
       "    <tr>\n",
       "      <td>4</td>\n",
       "      <td>Amy</td>\n",
       "      <td>3</td>\n",
       "      <td>70</td>\n",
       "      <td>51</td>\n",
       "      <td>124</td>\n",
       "    </tr>\n",
       "  </tbody>\n",
       "</table>\n",
       "</div>"
      ],
      "text/plain": [
       "  officer_name  jan_arrests  feb_arrests  march_arrests  total_arrests\n",
       "0        Jason            4           25              5             34\n",
       "1        Molly           24           94             43            161\n",
       "2         Tina           31           57             23            111\n",
       "3         Jake            2           62             23             87\n",
       "4          Amy            3           70             51            124"
      ]
     },
     "execution_count": 18,
     "metadata": {},
     "output_type": "execute_result"
    }
   ],
   "source": [
    "# Create a column with the total arrests for each officer\n",
    "df['total_arrests'] = df['jan_arrests'] + df['feb_arrests'] + df['march_arrests']\n",
    "df"
   ]
  },
  {
   "cell_type": "code",
   "execution_count": 19,
   "metadata": {},
   "outputs": [],
   "source": [
    "# Create a list of colors (from iWantHue)\n",
    "colors = [\"#E13F29\", \"#D69A80\", \"#D63B59\", \"#AE5552\", \"#CB5C3B\", \"#EB8076\", \"#96624E\"]"
   ]
  },
  {
   "cell_type": "code",
   "execution_count": 20,
   "metadata": {},
   "outputs": [
    {
     "data": {
      "image/png": "[encoded data removed]",
      "text/plain": [
       "<Figure size 432x288 with 1 Axes>"
      ]
     },
     "metadata": {},
     "output_type": "display_data"
    }
   ],
   "source": [
    "# Create a PIE\n",
    "plt.pie(\n",
    "    # using data total)arrests\n",
    "    df['total_arrests'],\n",
    "    # with the labels being officer names\n",
    "    labels=df['officer_name'],\n",
    "    # with no shadows\n",
    "    shadow=False,\n",
    "    # with colors\n",
    "    colors=colors,\n",
    "    # with one slide exploded out\n",
    "    explode=(0, 0, 0, 0, 0.15),\n",
    "    # with the start angle at 90%\n",
    "    startangle=90,\n",
    "    # with the percent listed as a fraction\n",
    "    autopct='%1.1f%%',\n",
    "    )\n",
    "\n",
    "# View the plot drop above\n",
    "plt.axis('equal')\n",
    "\n",
    "# View the plot\n",
    "plt.tight_layout()\n",
    "plt.show()\n"
   ]
  },
  {
   "cell_type": "markdown",
   "metadata": {},
   "source": [
    "# Histogram in Matplot lib!!"
   ]
  },
  {
   "cell_type": "code",
   "execution_count": 24,
   "metadata": {},
   "outputs": [],
   "source": [
    "import matplotlib.mlab as mlab\n",
    "from scipy.stats import norm"
   ]
  },
  {
   "cell_type": "code",
   "execution_count": 25,
   "metadata": {},
   "outputs": [
    {
     "name": "stderr",
     "output_type": "stream",
     "text": [
      "C:\\Users\\ganes\\Anaconda3\\lib\\site-packages\\ipykernel_launcher.py:8: MatplotlibDeprecationWarning: \n",
      "The 'normed' kwarg was deprecated in Matplotlib 2.1 and will be removed in 3.1. Use 'density' instead.\n",
      "  \n"
     ]
    },
    {
     "data": {
      "image/png": "[encoded data removed]",
      "text/plain": [
       "<Figure size 432x288 with 1 Axes>"
      ]
     },
     "metadata": {},
     "output_type": "display_data"
    }
   ],
   "source": [
    "# example data\n",
    "mu = 100 # mean of distribution \n",
    "sigma = 15 # standard deviation of distribution \n",
    "x = mu + sigma * np.random.randn(10000)\n",
    "\n",
    "num_bins =20\n",
    "# the histogram of the data\n",
    "n ,bins,patches = plt.hist(x,num_bins,normed=1,facecolor ='blue',alpha =0.5)\n",
    "\n",
    "# add the best fit line\n",
    "y = norm.pdf(bins,mu,sigma)\n",
    "plt.plot(bins,y,'r--')\n",
    "plt.xlabel('smarts')\n",
    "plt.ylabel('Probability')\n",
    "plt.title(r\"Histogram of IQ: $\\mu=100$, $\\sigma=15$\")\n",
    "\n",
    "# Tweak spacing to prevent clipping of ylabel\n",
    "plt.subplots_adjust(left =0.15)\n",
    "plt.show()"
   ]
  },
  {
   "cell_type": "markdown",
   "metadata": {},
   "source": [
    "# Stack Plots with Matplotlib\n"
   ]
  },
  {
   "cell_type": "code",
   "execution_count": 26,
   "metadata": {},
   "outputs": [],
   "source": [
    "days = [1,2,3,4,5]\n",
    "\n",
    "sleeping = [7,8,6,11,7]\n",
    "eating =   [2,3,4,3,2]\n",
    "working =  [7,8,7,2,2]\n",
    "playing =  [8,5,7,8,13]"
   ]
  },
  {
   "cell_type": "code",
   "execution_count": 27,
   "metadata": {},
   "outputs": [
    {
     "data": {
      "image/png": "[encoded data removed]",
      "text/plain": [
       "<Figure size 432x288 with 1 Axes>"
      ]
     },
     "metadata": {},
     "output_type": "display_data"
    }
   ],
   "source": [
    "plt.stackplot(days, sleeping,eating,working,playing, colors=['m','c','r','k'])\n",
    "\n",
    "plt.xlabel('x')\n",
    "plt.ylabel('y')\n",
    "plt.title('Interesting Graph\\nCheck it out')\n",
    "plt.show()"
   ]
  },
  {
   "cell_type": "code",
   "execution_count": 28,
   "metadata": {},
   "outputs": [
    {
     "data": {
      "image/png": "[encoded data removed]",
      "text/plain": [
       "<Figure size 432x288 with 1 Axes>"
      ]
     },
     "metadata": {},
     "output_type": "display_data"
    }
   ],
   "source": [
    "days = [1,2,3,4,5]\n",
    "\n",
    "sleeping = [7,8,6,11,7]\n",
    "eating =   [2,3,4,3,2]\n",
    "working =  [7,8,7,2,2]\n",
    "playing =  [8,5,7,8,13]\n",
    "\n",
    "\n",
    "plt.plot([],[],color='m', label='Sleeping', linewidth=5)\n",
    "plt.plot([],[],color='c', label='Eating', linewidth=5)\n",
    "plt.plot([],[],color='r', label='Working', linewidth=5)\n",
    "plt.plot([],[],color='k', label='Playing', linewidth=5)\n",
    "\n",
    "plt.stackplot(days, sleeping,eating,working,playing, colors=['m','c','r','k'])\n",
    "\n",
    "plt.xlabel('x')\n",
    "plt.ylabel('y')\n",
    "plt.title('Interesting Graph\\nCheck it out')\n",
    "plt.legend()\n",
    "plt.show()"
   ]
  },
  {
   "cell_type": "code",
   "execution_count": null,
   "metadata": {},
   "outputs": [],
   "source": []
  }
 ],
 "metadata": {
  "kernelspec": {
   "display_name": "Python 3",
   "language": "python",
   "name": "python3"
  },
  "language_info": {
   "codemirror_mode": {
    "name": "ipython",
    "version": 3
   },
   "file_extension": ".py",
   "mimetype": "text/x-python",
   "name": "python",
   "nbconvert_exporter": "python",
   "pygments_lexer": "ipython3",
   "version": "3.7.4"
  }
 },
 "nbformat": 4,
 "nbformat_minor": 2
}
